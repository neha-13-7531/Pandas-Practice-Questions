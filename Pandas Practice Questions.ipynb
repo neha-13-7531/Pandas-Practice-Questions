{
 "cells": [
  {
   "cell_type": "markdown",
   "id": "afb84c5b-33e0-4ef4-b27b-ad648a9ee356",
   "metadata": {},
   "source": [
    "# Python Worksheet 1 -Operators, Conditional Statements, loops "
   ]
  },
  {
   "cell_type": "markdown",
   "id": "220289d2-ef4e-44e3-870b-92a8aff09545",
   "metadata": {},
   "source": [
    "**Q 1. Check whether a given number n is both a multiple of 3 and 5, but not divisible by 7.**"
   ]
  },
  {
   "cell_type": "code",
   "execution_count": 3,
   "id": "1bdff720-4020-42e0-9565-eea76d0e935d",
   "metadata": {},
   "outputs": [
    {
     "name": "stdin",
     "output_type": "stream",
     "text": [
      "Enter your number: 4\n"
     ]
    },
    {
     "name": "stdout",
     "output_type": "stream",
     "text": [
      "The 4 not take any condition \n"
     ]
    }
   ],
   "source": [
    "n=int(input(\"Enter your number:\")) # take number rom user\n",
    "if n%3==0 and n%5==0 and n%7 !=0: # check the number is multiply 3 and 5 but not divisible by 7\n",
    "    print(f\"The {n} is multiple of 3 and 5 but not divisible by 7\")\n",
    "else:\n",
    "    print(f\"The {n} not take any condition \")\n"
   ]
  },
  {
   "cell_type": "markdown",
   "id": "6966ab17-a021-4c37-af91-7d0dda6b7261",
   "metadata": {},
   "source": [
    "**Q 2. A store has a discount policy:\n",
    "• If the bill > ₹5000, give 20% discount\n",
    "• If bill is between ₹2500 and ₹5000, give 10% discount\n",
    "• If bill is below ₹2500 but above ₹1000, give 5% discount\n",
    "• No discount otherwise\n",
    "Write a program to compute the final payable amount.**"
   ]
  },
  {
   "cell_type": "code",
   "execution_count": 5,
   "id": "6d829a4a-4007-494d-b8ec-30691b660c32",
   "metadata": {},
   "outputs": [
    {
     "name": "stdin",
     "output_type": "stream",
     "text": [
      "Enter the bill amount:  5600\n"
     ]
    },
    {
     "name": "stdout",
     "output_type": "stream",
     "text": [
      "Final Payable Amount: ₹4480.00\n"
     ]
    }
   ],
   "source": [
    "Bill_amount = float(input(\"Enter the bill amount: \")) # take bill amount from user\n",
    "\n",
    "if Bill_amount > 5000: # check amount is greater than 5000 if yes then get discount 20%\n",
    "    discount = Bill_amount * 0.20\n",
    "    \n",
    "elif 2500 <= Bill_amount <= 5000: # check amount is between 2500 and 5000 if yes then get 10% discount\n",
    "    discount = Bill_amount * 0.10\n",
    "\n",
    "elif 1000 < Bill_amount < 2500: # check amount is less than 2500 and greater than 1000 if yes then get 5%\n",
    "    discount = Bill_amount * 0.05\n",
    "\n",
    "else:   # other wise not get any discount\n",
    "    discount=0\n",
    "    print(\"No Discount\")\n",
    "\n",
    "final_amount = Bill_amount - discount  # return final amount with discount\n",
    "print(f\"Final Payable Amount: ₹{final_amount:.2f}\")"
   ]
  },
  {
   "cell_type": "markdown",
   "id": "6bc24142-a225-4fb5-b264-dd056663ec79",
   "metadata": {},
   "source": [
    "**Q 3. Print all prime numbers between 50 and 100.**"
   ]
  },
  {
   "cell_type": "code",
   "execution_count": 7,
   "id": "0cb24da4-ed12-4da6-b1c4-7636a56fc88d",
   "metadata": {},
   "outputs": [
    {
     "name": "stdout",
     "output_type": "stream",
     "text": [
      "53\n",
      "59\n",
      "61\n",
      "67\n",
      "71\n",
      "73\n",
      "79\n",
      "83\n",
      "89\n",
      "97\n"
     ]
    }
   ],
   "source": [
    "for i in range(50,100+1):   # define the range to get prime number between 50 to 100\n",
    "    if i > 1:                       # check the i is greater than 1\n",
    "        for num in range(2,i):\n",
    "            if i% num == 0:       # check the number has any divisible by 1 or itself\n",
    "                break    # not prime  and exit the loop\n",
    "        else:\n",
    "            print(i)  # print only prime number "
   ]
  },
  {
   "cell_type": "markdown",
   "id": "7d6d813b-536d-4e96-a774-3439297c79a0",
   "metadata": {},
   "source": [
    "**4. A student is eligible for a certificate only if:\n",
    "• Attendance is above 75%\n",
    "• Internal score > 35\n",
    "• Has not failed in any subject\n",
    "Write a decision-making program for the same.**"
   ]
  },
  {
   "cell_type": "code",
   "execution_count": 9,
   "id": "7fa1835d-dadf-4930-b8b6-133c86f4c0e2",
   "metadata": {},
   "outputs": [
    {
     "name": "stdin",
     "output_type": "stream",
     "text": [
      "Enter  student attendance percentage:  50\n",
      "Enter internal score:  80\n",
      "Enter number of subjects failed:  0\n"
     ]
    },
    {
     "name": "stdout",
     "output_type": "stream",
     "text": [
      "The student is not eligible for a certificate.\n"
     ]
    }
   ],
   "source": [
    "stud_attendance = float(input(\"Enter  student attendance percentage: \")) # take student attendance\n",
    "internal_score = float(input(\"Enter internal score: \"))  # take internal score of student\n",
    "failed_subjects = int(input(\"Enter number of subjects failed: \")) # take number of failed subject\n",
    "\n",
    "if stud_attendance > 75 and internal_score > 35 and failed_subjects == 0: # check the attendance is greater than 75% and internal score gretaer than 35 and student is no failed in any subject\n",
    "    print(\"The student is eligible for a certificate.\")  # it return student is eligible\n",
    "else:\n",
    "    print(\"The student is not eligible for a certificate.\") # other wise student is not eligible\n",
    "    "
   ]
  },
  {
   "cell_type": "markdown",
   "id": "5740f44e-cc56-44ad-a8d4-70f2cd63216d",
   "metadata": {},
   "source": [
    "**Q 5. Create a mini \"Mood Bot\" that accepts a user's mood input (Happy, Sad, Angry, Excited) and\n",
    "responds with a suitable message.**"
   ]
  },
  {
   "cell_type": "code",
   "execution_count": 11,
   "id": "da87fd0a-b3be-4fee-ad48-488f397d2b08",
   "metadata": {},
   "outputs": [
    {
     "name": "stdin",
     "output_type": "stream",
     "text": [
      "How are you mood today? (Happy, Sad, Angry, Excited):  Happy\n"
     ]
    },
    {
     "name": "stdout",
     "output_type": "stream",
     "text": [
      "Nice your mood is happy today..\n"
     ]
    }
   ],
   "source": [
    "mood_Bot = input(\"How are you mood today? (Happy, Sad, Angry, Excited): \")\n",
    "\n",
    "if mood_Bot== \"Happy\":\n",
    "    print(\"Nice your mood is happy today..\")\n",
    "elif mood_Bot == \"Sad\":\n",
    "    print(\"Oo your mood is sad \")\n",
    "elif mood_Bot== \"Angry\":\n",
    "    print(\"why your mood is angry today?\")\n",
    "elif mood_Bot== \"Excited\":\n",
    "    print(\"Yay! What's got you so excited?\")\n",
    "else:\n",
    "    print(\"Please share your mood\")"
   ]
  },
  {
   "cell_type": "markdown",
   "id": "01703695-a2a4-4eb1-86f0-f8d30c3e0ad1",
   "metadata": {},
   "source": [
    "**Q 6. Given a list of numbers, check if any number is divisible by both 4 and 6 using a loop and\n",
    "logical operators.**"
   ]
  },
  {
   "cell_type": "code",
   "execution_count": 13,
   "id": "b0e25c0c-bfe2-4680-bf17-9d3491ef0321",
   "metadata": {},
   "outputs": [
    {
     "name": "stdout",
     "output_type": "stream",
     "text": [
      "12 is divisible by both 4 and 6.\n",
      "48 is divisible by both 4 and 6.\n"
     ]
    }
   ],
   "source": [
    "numbers = [20,40,12,18,48] # create a list\n",
    "\n",
    "for n in numbers:\n",
    "    if n % 4 == 0 and n % 6 == 0: # check number is divisible by 4 and 6 \n",
    "        print(f\"{n} is divisible by both 4 and 6.\")\n",
    "    \n",
    "        "
   ]
  },
  {
   "cell_type": "markdown",
   "id": "7a296e2a-6abb-477b-b04a-410c28434d94",
   "metadata": {},
   "source": [
    "**7. Build a BMI calculator that takes weight and height, computes BMI, and classifies as:\n",
    "• Underweight\n",
    "• Normal\n",
    "• Overweight\n",
    "• Obese**"
   ]
  },
  {
   "cell_type": "code",
   "execution_count": 3,
   "id": "980dc80c-554e-4744-9f3c-3996f12751b0",
   "metadata": {},
   "outputs": [
    {
     "name": "stdin",
     "output_type": "stream",
     "text": [
      "Enter BMI Weight:  30\n",
      "Enter BMI Height: 5.2\n"
     ]
    },
    {
     "name": "stdout",
     "output_type": "stream",
     "text": [
      "BMI is: 1.1094674556213016\n",
      "You are underweighted\n"
     ]
    }
   ],
   "source": [
    "Bmi_Weight=float(input(\"Enter BMI Weight: \"))\n",
    "Bmi_Height=float(input(\"Enter BMI Height:\"))\n",
    "\n",
    "# Calculate BMI\n",
    "BMI= Bmi_Weight / (Bmi_Height **2) # formula BMI= Weight / (hight**2)\n",
    "print(\"BMI is:\",BMI)\n",
    "if BMI < 18.5: # check BMI is less than 18.5 then return underweighted\n",
    "    print(\"You are underweighted\")\n",
    "elif BMI < 25:      # check BMI is less than 25 then it return Normal\n",
    "    print(\"You are Normal weighted\")\n",
    "elif BMI < 30:      # check BMI is less than 30 then it return overweighted\n",
    "    print(\"You are Overweighted\")\n",
    "else:\n",
    "    print(\"You are obeses\")"
   ]
  },
  {
   "cell_type": "markdown",
   "id": "87eee9d9-918c-4713-b92d-c48e66888d23",
   "metadata": {},
   "source": [
    "**Q 8. Build a mini ATM simulation:\n",
    "• Start with a balance of ₹10,000\n",
    "• Let user withdraw, deposit, or check balance\n",
    "• Use loops and conditionals to simulate multiple operations**\n"
   ]
  },
  {
   "cell_type": "code",
   "execution_count": 17,
   "id": "df2c56ea-c8f6-4b9a-bd63-15c9fa1f1890",
   "metadata": {},
   "outputs": [
    {
     "name": "stdout",
     "output_type": "stream",
     "text": [
      "1.withdraw amount:\n",
      "2.deposite amount:\n",
      "3.check balance:\n",
      "4.Exit\n"
     ]
    },
    {
     "name": "stdin",
     "output_type": "stream",
     "text": [
      "Enter your choice:  1\n",
      " Enter Withdraw amount:  4000\n"
     ]
    },
    {
     "name": "stdout",
     "output_type": "stream",
     "text": [
      "Balance: 6000.0\n",
      "1.withdraw amount:\n",
      "2.deposite amount:\n",
      "3.check balance:\n",
      "4.Exit\n"
     ]
    },
    {
     "name": "stdin",
     "output_type": "stream",
     "text": [
      "Enter your choice:  4\n"
     ]
    },
    {
     "name": "stdout",
     "output_type": "stream",
     "text": [
      "Exiting.\n"
     ]
    }
   ],
   "source": [
    "balance = 10000 # initial balance\n",
    "\n",
    "while True: # Loop execute until user chooses to exit option\n",
    "    print(\"1.withdraw amount:\")\n",
    "    print(\"2.deposite amount:\")\n",
    "    print(\"3.check balance:\")\n",
    "    print(\"4.Exit\")\n",
    "    choice = input(\"Enter your choice: \")\n",
    "\n",
    "    if choice == \"1\":\n",
    "        amount = float(input(\" Enter Withdraw amount: \"))  # if withdraw amount is less than initial amount then it subrat to the initial amount \n",
    "        if amount <= balance:\n",
    "            balance -= amount\n",
    "            print(f\"Balance: {balance}\")\n",
    "        else:                             # other wise it show the insufficient balance\n",
    "            print(\"Insufficient balance.\")\n",
    "    elif choice == \"2\":\n",
    "        amount = float(input(\"Deposit amount: \"))   # it add the deposite amount to the balance\n",
    "        balance += amount\n",
    "        print(f\"Balance: {balance}\")\n",
    "    \n",
    "    elif choice == \"3\":\n",
    "        print(f\"Balance: {balance}\")  # it check the currant balance\n",
    "    \n",
    "    elif choice == \"4\":\n",
    "        print(\"Exiting.\")\n",
    "        break      # Break the loop to exit\n",
    "    else:\n",
    "        print(\"Invalid choice.\")"
   ]
  },
  {
   "cell_type": "markdown",
   "id": "81f11145-1504-437c-ac8d-430e22573ac8",
   "metadata": {},
   "source": [
    "**Q 9. Write a program to check whether a number is Armstrong (e.g., 153 → 1³ + 5³ + 3³ = 153).**\n"
   ]
  },
  {
   "cell_type": "code",
   "execution_count": 30,
   "id": "46bd96d1-8406-47ab-96e0-970fde87cc9f",
   "metadata": {},
   "outputs": [
    {
     "name": "stdin",
     "output_type": "stream",
     "text": [
      "Enter number: 153\n"
     ]
    },
    {
     "name": "stdout",
     "output_type": "stream",
     "text": [
      "Number is Armstrong\n"
     ]
    }
   ],
   "source": [
    "num=int(input(\"Enter number:\"))\n",
    "initial_sum=0\n",
    "temp=num\n",
    "length=len(str(num))\n",
    "while temp>0:\n",
    "    x=temp%10\n",
    "    initial_sum+= x ** length\n",
    "    temp //= 10\n",
    "if num==initial_sum:\n",
    "    print(\"Number is Armstrong\")\n",
    "else:\n",
    "    print(\"Not Armstrong\")"
   ]
  },
  {
   "cell_type": "markdown",
   "id": "2fe53e0b-c43b-468d-b177-07551b74049c",
   "metadata": {},
   "source": [
    "**Q 10. Write a program to check if a number is Kaprekar (e.g., 45² = 2025 → 20 + 25 = 45).**"
   ]
  },
  {
   "cell_type": "code",
   "execution_count": 21,
   "id": "41d99a4d-063c-41b9-8607-43dcd9aa4c0b",
   "metadata": {},
   "outputs": [
    {
     "name": "stdin",
     "output_type": "stream",
     "text": [
      "Enter number: 45\n"
     ]
    }
   ],
   "source": [
    "n=int(input(\"Enter number:\"))\n",
    "square=str(n**2)\n",
    "x=len(str(n))\n",
    "\n",
    "\n",
    "    "
   ]
  },
  {
   "cell_type": "markdown",
   "id": "84d29029-2a54-4cb5-8a82-27f30f830be9",
   "metadata": {},
   "source": [
    "**Q 11. Simulate a rock-paper-scissors game for 2 users using conditionals and loops.**"
   ]
  },
  {
   "cell_type": "code",
   "execution_count": 23,
   "id": "ff196618-510d-47db-8676-991c8e17c439",
   "metadata": {},
   "outputs": [
    {
     "name": "stdin",
     "output_type": "stream",
     "text": [
      "user1 Enter your choice (rock/paper/scissors) : rock\n",
      "user2 Enter your choice (rock/paper/scissors) : paper\n"
     ]
    },
    {
     "name": "stdout",
     "output_type": "stream",
     "text": [
      "User2 wins\n"
     ]
    }
   ],
   "source": [
    "\n",
    "user1 = input(\"user1 Enter your choice (rock/paper/scissors) :\").lower()\n",
    "user2 = input(\"user2 Enter your choice (rock/paper/scissors) :\").lower()\n",
    "if user1 == 'rock':\n",
    "    if user2 == 'paper':\n",
    "        print(\"User2 wins\")\n",
    "    else:\n",
    "        print(\"User1 wins\")\n",
    "elif user1 == 'paper':\n",
    "     if user2 == 'scissors':\n",
    "         print(\"User 2 win\")\n",
    "     else:  \n",
    "         print(\"User 1 win\")\n",
    "elif user1=='scissors':\n",
    "    if user2=='rock':\n",
    "        print(\"user2 win\")\n",
    "    else:\n",
    "        print(\"user1 win\")\n",
    "\n",
    "    "
   ]
  },
  {
   "cell_type": "markdown",
   "id": "e7d54314-b83c-44c4-b1d0-75928a3dc9d9",
   "metadata": {},
   "source": [
    "**Q 12. Input two lists and compare whether their set of elements (regardless of order and duplicates)\n",
    "are the same using operators.**"
   ]
  },
  {
   "cell_type": "code",
   "execution_count": 25,
   "id": "cfce3e74-c247-4245-827c-8205b989e95b",
   "metadata": {},
   "outputs": [
    {
     "name": "stdout",
     "output_type": "stream",
     "text": [
      "The element have no same elemenet\n"
     ]
    }
   ],
   "source": [
    "list1=[10,23,11,6,7]\n",
    "list2=[11,20,5,1,9]\n",
    "if set(list1)==set(list2):\n",
    "    print(\"The list have same element\")\n",
    "else:\n",
    "    print(\"The element have no same elemenet\")"
   ]
  },
  {
   "cell_type": "markdown",
   "id": "e0ebefa8-c236-4e45-bae8-b07795f6a7a7",
   "metadata": {},
   "source": [
    "**Q 13. Create a step-wise interest calculator using a loop:\n",
    "• ₹1000 initial amount\n",
    "• 10% interest per year\n",
    "• Until it doubles → print value per year**\n"
   ]
  },
  {
   "cell_type": "code",
   "execution_count": 28,
   "id": "919955ab-a56b-4c45-b94d-73006f180e31",
   "metadata": {},
   "outputs": [
    {
     "name": "stdout",
     "output_type": "stream",
     "text": [
      "Year 0: ₹1000.00\n",
      "Year 1: ₹1100.00\n",
      "Year 2: ₹1210.00\n",
      "Year 3: ₹1331.00\n",
      "Year 4: ₹1464.10\n",
      "Year 5: ₹1610.51\n",
      "Year 6: ₹1771.56\n",
      "Year 7: ₹1948.72\n"
     ]
    }
   ],
   "source": [
    "initial_amount = 1000 # initial amount\n",
    "interest_rate= 0.10 # get 10% interest\n",
    "current_amount = initial_amount\n",
    "year = 0\n",
    "\n",
    "while True:\n",
    "    if current_amount > 2 * initial_amount:\n",
    "        break\n",
    "    else:\n",
    "        print(f\"Year {year}: ₹{current_amount:.2f}\")\n",
    "        current_amount += current_amount * interest_rate\n",
    "        year += 1\n"
   ]
  },
  {
   "cell_type": "markdown",
   "id": "05b45ca7-5079-4af9-a1c8-a5df2c11da2c",
   "metadata": {},
   "source": [
    "**Q 14. Ask the user to guess a 4-digit PIN. Allow 3 tries.\n",
    "• If correct: print “Unlocked”\n",
    "• If wrong all attempts: print “Access Denied”**"
   ]
  },
  {
   "cell_type": "code",
   "execution_count": 4,
   "id": "34d59d4b-d240-466a-a0cc-5994085ae9db",
   "metadata": {},
   "outputs": [
    {
     "name": "stdin",
     "output_type": "stream",
     "text": [
      "Enter your 4-digit PIN (3 attempts remaining):  1234\n",
      "Incorrect PIN. You have 2 attempts remaining. Enter your 4-digit PIN:  6356\n",
      "Incorrect PIN. You have 1 attempt remaining. Enter your 4-digit PIN:  7531\n"
     ]
    },
    {
     "name": "stdout",
     "output_type": "stream",
     "text": [
      "Unlocked\n"
     ]
    }
   ],
   "source": [
    "correct_pin = 7531\n",
    "\n",
    "attempt1_pin= int(input(\"Enter your 4-digit PIN (3 attempts remaining): \"))\n",
    "if attempt1_pin== correct_pin:\n",
    "    print(\"Unlocked\")\n",
    "else:\n",
    "     attempt2_pin= int(input(\"Incorrect PIN. You have 2 attempts remaining. Enter your 4-digit PIN: \"))\n",
    "     if attempt2_pin == correct_pin:\n",
    "        print(\"Unlocked\")\n",
    "     else:\n",
    "        attempt3_pin = int(input(\"Incorrect PIN. You have 1 attempt remaining. Enter your 4-digit PIN: \"))\n",
    "        if attempt3_pin == correct_pin:\n",
    "            print(\"Unlocked\")\n",
    "        else:\n",
    "            print(\"Access Denied\")"
   ]
  },
  {
   "cell_type": "markdown",
   "id": "6462f377-60c3-44ba-adcd-ef2b598a02e7",
   "metadata": {},
   "source": [
    "**Q 15. Take 10 numbers from user. Show:\n",
    "• Sum of only odd numbers.\n",
    "• Product of even numbers.**"
   ]
  },
  {
   "cell_type": "code",
   "execution_count": 7,
   "id": "cd4c197b-7eb8-48a1-843c-9fd463cbb731",
   "metadata": {},
   "outputs": [
    {
     "name": "stdin",
     "output_type": "stream",
     "text": [
      "Enter number 1:  2\n",
      "Enter number 2:  1\n",
      "Enter number 3:  3\n",
      "Enter number 4:  4\n",
      "Enter number 5:  5\n",
      "Enter number 6:  6\n",
      "Enter number 7:  7\n",
      "Enter number 8:  8\n",
      "Enter number 9:  9\n",
      "Enter number 10:  10\n"
     ]
    },
    {
     "name": "stdout",
     "output_type": "stream",
     "text": [
      "Sum of odd numbers: 25\n",
      "Product of even numbers: 3840\n"
     ]
    }
   ],
   "source": [
    "num1 = int(input(\"Enter number 1: \"))\n",
    "num2 = int(input(\"Enter number 2: \"))\n",
    "num3 = int(input(\"Enter number 3: \"))\n",
    "num4 = int(input(\"Enter number 4: \"))\n",
    "num5 = int(input(\"Enter number 5: \"))\n",
    "num6 = int(input(\"Enter number 6: \"))\n",
    "num7 = int(input(\"Enter number 7: \"))\n",
    "num8 = int(input(\"Enter number 8: \"))\n",
    "num9 = int(input(\"Enter number 9: \"))\n",
    "num10 = int(input(\"Enter number 10: \"))\n",
    "\n",
    "odd_sum = 0  # Initial sum of odd product=0\n",
    "even_product = 1 #  Initial product of even number=1\n",
    "even_count = 0 # if we not entered even number the count will be 0\n",
    "\n",
    "if num1 % 2 == 0:  # Check if number is even\n",
    "    even_product *= num1   # Multiply even number to product\n",
    "    even_count += 1  # Increment even count\n",
    "else:\n",
    "    odd_sum += num1 # other wise it  odd number to sum\n",
    "\n",
    "if num2 % 2 == 0:\n",
    "    even_product *= num2\n",
    "    even_count += 1\n",
    "else:\n",
    "    odd_sum += num2\n",
    "\n",
    "if num3 % 2 == 0:\n",
    "    even_product *= num3\n",
    "    even_count += 1\n",
    "else:\n",
    "    odd_sum += num3\n",
    "\n",
    "if num4 % 2 == 0:\n",
    "    even_product *= num4\n",
    "    even_count += 1\n",
    "else:\n",
    "    odd_sum += num4\n",
    "\n",
    "if num5 % 2 == 0:\n",
    "    even_product *= num5\n",
    "    even_count += 1\n",
    "else:\n",
    "    odd_sum += num5\n",
    "\n",
    "if num6 % 2 == 0:\n",
    "    even_product *= num6\n",
    "    even_count += 1\n",
    "else:\n",
    "    odd_sum += num6\n",
    "\n",
    "if num7 % 2 == 0:\n",
    "    even_product *= num7\n",
    "    even_count += 1\n",
    "else:\n",
    "    odd_sum += num7\n",
    "\n",
    "if num8 % 2 == 0:\n",
    "    even_product *= num8\n",
    "    even_count += 1\n",
    "else:\n",
    "    odd_sum += num8\n",
    "\n",
    "if num9 % 2 == 0:\n",
    "    even_product *= num9\n",
    "    even_count += 1\n",
    "else:\n",
    "    odd_sum += num9\n",
    "\n",
    "if num10 % 2 == 0:\n",
    "    even_product *= num10\n",
    "    even_count += 1\n",
    "else:\n",
    "    odd_sum += num10\n",
    "\n",
    "print(f\"Sum of odd numbers: {odd_sum}\")\n",
    "if even_count > 0:\n",
    "    print(f\"Product of even numbers: {even_product}\")\n",
    "else:\n",
    "    print(\"No even numbers entered.\")"
   ]
  },
  {
   "cell_type": "markdown",
   "id": "780ee0ee-4484-4d1f-86e4-0b5f89685944",
   "metadata": {},
   "source": [
    "**Q.1 write a fuction that will count how many odd numbers is present in a given list of integer.**"
   ]
  },
  {
   "cell_type": "code",
   "execution_count": 8,
   "id": "d9b1e916-17b5-4efe-adfe-cd9f9537de9b",
   "metadata": {},
   "outputs": [
    {
     "name": "stdout",
     "output_type": "stream",
     "text": [
      "5\n"
     ]
    }
   ],
   "source": [
    "def count_odd(num): # create fuction for count the odd number\n",
    "    count=0 # initial count is 0\n",
    "    for i in num:\n",
    "        if i % 2 !=0: # check the odd number in list\n",
    "            count +=1 # if found odd number it increase by 1\n",
    "    return count # return count value\n",
    "\n",
    "num=[1,2,3,4,5,6,7,8,9,10]\n",
    "print(count_odd(num))"
   ]
  },
  {
   "cell_type": "markdown",
   "id": "f4b02d84-ce5a-4b18-a669-ff0530a6d231",
   "metadata": {},
   "source": [
    "**Q.2 write a lambda expression that will cube all the numbers in the list below. num=[1,2,3,4,5,6,7,8]**"
   ]
  },
  {
   "cell_type": "code",
   "execution_count": 2,
   "id": "49393bd5-d57c-46b4-8ca3-c8a13c0fa0b4",
   "metadata": {},
   "outputs": [
    {
     "name": "stdout",
     "output_type": "stream",
     "text": [
      "The Cube Every numbers are: [1, 8, 27, 64, 125, 216, 343, 512]\n"
     ]
    }
   ],
   "source": [
    "num=[1,2,3,4,5,6,7,8]\n",
    "cube=list(map(lambda x:x**3,num)) # to get cube of each number\n",
    "print(\"The Cube Every numbers are:\",cube)"
   ]
  },
  {
   "cell_type": "markdown",
   "id": "f9dbe22d-7d52-4d7f-a3e0-6d68b7f97893",
   "metadata": {},
   "source": [
    "**Q 3.Write a function that will take in an unknown number of arguments and multiply all of them together and run the function for these 2 sets of numbers:\n",
    "1,2,3,4,5\n",
    "12,13,14**"
   ]
  },
  {
   "cell_type": "code",
   "execution_count": 9,
   "id": "7a7ab58e-9be0-4afe-bd09-6337a1b48dd2",
   "metadata": {},
   "outputs": [
    {
     "name": "stdout",
     "output_type": "stream",
     "text": [
      "120\n",
      "2184\n"
     ]
    }
   ],
   "source": [
    "def multiply_numbers(*argument): # it takes the multiples argument\n",
    "    product = 1 # initially product is 1\n",
    "    for n in argument: \n",
    "        product *= n # it multiplies the number one by one\n",
    "    return product\n",
    "\n",
    "print(multiply_numbers(1, 2, 3, 4, 5))  # 1*1=1,2*1=2,2*3=6,6*4=24,24*5=120\n",
    "print(multiply_numbers(12, 13, 14)) "
   ]
  },
  {
   "cell_type": "markdown",
   "id": "39575098-157c-4c4a-8115-c2e7494f16d9",
   "metadata": {},
   "source": [
    "**Q.4 Write a function apply_operation(func, x, y) that takes a function func and two numbers x and y as arguments, and returns the result of calling func(x, y). Demonstrate its use with different functions (e.g., addition, subtraction).**"
   ]
  },
  {
   "cell_type": "code",
   "execution_count": 14,
   "id": "b9086ddc-da0d-46e6-840c-7f9d9b81da81",
   "metadata": {},
   "outputs": [
    {
     "name": "stdout",
     "output_type": "stream",
     "text": [
      "12\n",
      "5\n"
     ]
    }
   ],
   "source": [
    "def apply_operation(func, x, y): # create the function \n",
    "    return func(x, y) \n",
    "\n",
    "def add(x, y): # create function for addition\n",
    "    return x + y\n",
    "\n",
    "def subtract(x, y): # create function for subtraction\n",
    "    return x - y\n",
    "\n",
    "print(apply_operation(add, 2, 10)) \n",
    "print(apply_operation(subtract, 10, 5)) "
   ]
  },
  {
   "cell_type": "markdown",
   "id": "68cce4b6-3dc7-4c81-a436-984449d97d04",
   "metadata": {},
   "source": [
    "**Q.5 Write a program to create a function show_employee() with the following specifications:\n",
    "It should accept the employee’s name and salary.\n",
    "It should display both the name and salary.\n",
    "If the salary is not provided in the function call, it should default to 9000.**"
   ]
  },
  {
   "cell_type": "code",
   "execution_count": 20,
   "id": "e2a14898-8c30-4726-81aa-98c066c89def",
   "metadata": {},
   "outputs": [
    {
     "name": "stdout",
     "output_type": "stream",
     "text": [
      "Employee Name: Neha\n",
      "Employee Salary: 50000\n",
      "Employee Name: Moni\n",
      "Employee Salary: 9000\n"
     ]
    }
   ],
   "source": [
    "def show_employee(name, salary=9000): # create function for employee name and salary default is 9000\n",
    "    print(f\"Employee Name: {name}\") # print emp name\n",
    "    print(f\"Employee Salary: {salary}\") # print emp salary\n",
    "\n",
    "show_employee(\"Neha\", 50000)\n",
    "show_employee(\"Moni\")"
   ]
  },
  {
   "cell_type": "markdown",
   "id": "dd85a7ef-4c94-47aa-8e42-2ebbbc034592",
   "metadata": {},
   "source": [
    "**Q.1 Write a function that takes two integers and returns them in swapped order.**"
   ]
  },
  {
   "cell_type": "code",
   "execution_count": 27,
   "id": "811eb9f4-9bc8-4db6-b3ab-a4ba42b40c64",
   "metadata": {},
   "outputs": [
    {
     "name": "stdout",
     "output_type": "stream",
     "text": [
      "Before swapping: num1 = 10 num2 = 20\n",
      "After swapping the numbers : num1 = 20 num2 = 10\n"
     ]
    }
   ],
   "source": [
    "def swap_num(x,y):# craete function for swap\n",
    "    return y,x\n",
    "num1 = 10 # initilize first number\n",
    "num2 = 20 # initialize second number\n",
    "print(\"Before swapping: num1 =\", num1, \"num2 =\", num2) # before swapping\n",
    "\n",
    "After_swap= swap_num(num1, num2) # after swapping\n",
    "print(\"After swapping the numbers : num1 =\", num2, \"num2 =\", num1)\n"
   ]
  },
  {
   "cell_type": "markdown",
   "id": "8e656a6d-f386-4d3e-bdc7-638c21466cf4",
   "metadata": {},
   "source": [
    "**Q 2.Write a function that returns the largest number in a list, without using max().**"
   ]
  },
  {
   "cell_type": "code",
   "execution_count": 39,
   "id": "621fc626-d224-410b-9642-83480bcbd86e",
   "metadata": {},
   "outputs": [
    {
     "name": "stdout",
     "output_type": "stream",
     "text": [
      "The largest number is: 10\n"
     ]
    }
   ],
   "source": [
    "def lar_num(n):\n",
    "  largest = n[0] # let first number in list is greater\n",
    "  for num in n:\n",
    "        if num > largest: # it check the number is greater than current largest number if yes then that number is greater\n",
    "            # Update the largest number\n",
    "            largest = num\n",
    "    \n",
    "  return largest\n",
    "n=[1,3,2,7,10,5]\n",
    "print(\"The largest number is:\",lar_num(n))"
   ]
  },
  {
   "cell_type": "markdown",
   "id": "66436661-a65e-4bd4-9743-7076db21b87a",
   "metadata": {},
   "source": [
    "**Q.3 Write a function that replaces all instances of a character with another in a string, without using str.replace().**"
   ]
  },
  {
   "cell_type": "markdown",
   "id": "3a97fb80-4b16-481c-9fee-080e2158dba8",
   "metadata": {},
   "source": [
    "**Q.4 Write a function that returns a list of common elements between two lists.**"
   ]
  },
  {
   "cell_type": "code",
   "execution_count": 45,
   "id": "b6a16168-3b3b-4e20-8ef9-49e0d7de3dd2",
   "metadata": {},
   "outputs": [
    {
     "name": "stdout",
     "output_type": "stream",
     "text": [
      "[4, 5]\n"
     ]
    }
   ],
   "source": [
    "def common_elements(li1, li2):\n",
    "    return list(set(li1).intersection(li2)) # intersection get common element in the both list\n",
    "\n",
    "# Test the function\n",
    "li1 = [1, 2, 3, 4, 5]\n",
    "li2 = [4, 5, 6, 7, 8]\n",
    "print(common_elements(li1, li2))"
   ]
  },
  {
   "cell_type": "markdown",
   "id": "f4703452-10c3-4346-9d8c-6e97df793f49",
   "metadata": {},
   "source": [
    "**Q.5 Write a function to split a string into words based on spaces (no str.split()).**"
   ]
  },
  {
   "cell_type": "markdown",
   "id": "0430b347-8e15-41c3-b33e-8f323a12a136",
   "metadata": {},
   "source": [
    "**Q 6 Given a list of integers from 1 to n with one number missing, write a function to find the missing number.**"
   ]
  },
  {
   "cell_type": "code",
   "execution_count": 59,
   "id": "56f3ded6-4a17-49a0-a38a-8550417fdca8",
   "metadata": {},
   "outputs": [
    {
     "name": "stdout",
     "output_type": "stream",
     "text": [
      "[6]\n"
     ]
    }
   ],
   "source": [
    "def missing_number(n): # create a function to find missing value in list\n",
    "    num = len(n) + 1 # # Calculate the maximum number that should be in the list\n",
    "    return [i for i in range(1, num + 1) if i not in n] # use not in for the number is not in the list  return that number\n",
    "\n",
    "n = [1,2,3,4,5,7,8,9,10]\n",
    "print(missing_number(n))"
   ]
  },
  {
   "cell_type": "markdown",
   "id": "a64240a4-2726-4c16-bfb3-500152981bba",
   "metadata": {},
   "source": [
    "**Q 7 Write a function that joins a list of strings with a given separator (do not use str.join()).**"
   ]
  },
  {
   "cell_type": "code",
   "execution_count": 64,
   "id": "9eb00dfe-f2ce-4a06-a79e-e8ac7eb9b3c2",
   "metadata": {},
   "outputs": [
    {
     "name": "stdout",
     "output_type": "stream",
     "text": [
      "Hi, I, am, Neha\n"
     ]
    }
   ],
   "source": [
    "def join_strings(strings, separator):\n",
    "    result = strings[0] # it start with first string in th list\n",
    "    for string in strings[1:]: # string[1:]which means you're starting from the second element of the list\n",
    "        result += separator + string # it add the separator in string\n",
    "    return result\n",
    "\n",
    "strings = [\"Hi\", \"I\", \"am\", \"Neha\"]\n",
    "separator = \", \"  # initilize the separator is \",\"\n",
    "print(join_strings(strings, separator))  "
   ]
  },
  {
   "cell_type": "code",
   "execution_count": null,
   "id": "bafb97b7-53ce-493b-b8bd-0656bfa49197",
   "metadata": {},
   "outputs": [],
   "source": []
  }
 ],
 "metadata": {
  "kernelspec": {
   "display_name": "Python [conda env:base] *",
   "language": "python",
   "name": "conda-base-py"
  },
  "language_info": {
   "codemirror_mode": {
    "name": "ipython",
    "version": 3
   },
   "file_extension": ".py",
   "mimetype": "text/x-python",
   "name": "python",
   "nbconvert_exporter": "python",
   "pygments_lexer": "ipython3",
   "version": "3.12.7"
  }
 },
 "nbformat": 4,
 "nbformat_minor": 5
}
