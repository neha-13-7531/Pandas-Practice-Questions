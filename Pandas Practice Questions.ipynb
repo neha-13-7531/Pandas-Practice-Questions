{
 "cells": [
  {
   "cell_type": "markdown",
   "id": "afb84c5b-33e0-4ef4-b27b-ad648a9ee356",
   "metadata": {},
   "source": [
    "# Python Worksheet 1 -Operators, Conditional Statements, loops "
   ]
  },
  {
   "cell_type": "markdown",
   "id": "220289d2-ef4e-44e3-870b-92a8aff09545",
   "metadata": {},
   "source": [
    "**Q 1. Check whether a given number n is both a multiple of 3 and 5, but not divisible by 7.**"
   ]
  },
  {
   "cell_type": "code",
   "execution_count": 3,
   "id": "1bdff720-4020-42e0-9565-eea76d0e935d",
   "metadata": {},
   "outputs": [
    {
     "name": "stdin",
     "output_type": "stream",
     "text": [
      "Enter your number: 4\n"
     ]
    },
    {
     "name": "stdout",
     "output_type": "stream",
     "text": [
      "The 4 not take any condition \n"
     ]
    }
   ],
   "source": [
    "n=int(input(\"Enter your number:\")) # take number rom user\n",
    "if n%3==0 and n%5==0 and n%7 !=0: # check the number is multiply 3 and 5 but not divisible by 7\n",
    "    print(f\"The {n} is multiple of 3 and 5 but not divisible by 7\")\n",
    "else:\n",
    "    print(f\"The {n} not take any condition \")\n"
   ]
  },
  {
   "cell_type": "markdown",
   "id": "6966ab17-a021-4c37-af91-7d0dda6b7261",
   "metadata": {},
   "source": [
    "**Q 2. A store has a discount policy:\n",
    "• If the bill > ₹5000, give 20% discount\n",
    "• If bill is between ₹2500 and ₹5000, give 10% discount\n",
    "• If bill is below ₹2500 but above ₹1000, give 5% discount\n",
    "• No discount otherwise\n",
    "Write a program to compute the final payable amount.**"
   ]
  },
  {
   "cell_type": "code",
   "execution_count": 5,
   "id": "6d829a4a-4007-494d-b8ec-30691b660c32",
   "metadata": {},
   "outputs": [
    {
     "name": "stdin",
     "output_type": "stream",
     "text": [
      "Enter the bill amount:  5600\n"
     ]
    },
    {
     "name": "stdout",
     "output_type": "stream",
     "text": [
      "Final Payable Amount: ₹4480.00\n"
     ]
    }
   ],
   "source": [
    "Bill_amount = float(input(\"Enter the bill amount: \")) # take bill amount from user\n",
    "\n",
    "if Bill_amount > 5000: # check amount is greater than 5000 if yes then get discount 20%\n",
    "    discount = Bill_amount * 0.20\n",
    "    \n",
    "elif 2500 <= Bill_amount <= 5000: # check amount is between 2500 and 5000 if yes then get 10% discount\n",
    "    discount = Bill_amount * 0.10\n",
    "\n",
    "elif 1000 < Bill_amount < 2500: # check amount is less than 2500 and greater than 1000 if yes then get 5%\n",
    "    discount = Bill_amount * 0.05\n",
    "\n",
    "else:   # other wise not get any discount\n",
    "    discount=0\n",
    "    print(\"No Discount\")\n",
    "\n",
    "final_amount = Bill_amount - discount  # return final amount with discount\n",
    "print(f\"Final Payable Amount: ₹{final_amount:.2f}\")"
   ]
  },
  {
   "cell_type": "markdown",
   "id": "6bc24142-a225-4fb5-b264-dd056663ec79",
   "metadata": {},
   "source": [
    "**Q 3. Print all prime numbers between 50 and 100.**"
   ]
  },
  {
   "cell_type": "code",
   "execution_count": 7,
   "id": "0cb24da4-ed12-4da6-b1c4-7636a56fc88d",
   "metadata": {},
   "outputs": [
    {
     "name": "stdout",
     "output_type": "stream",
     "text": [
      "53\n",
      "59\n",
      "61\n",
      "67\n",
      "71\n",
      "73\n",
      "79\n",
      "83\n",
      "89\n",
      "97\n"
     ]
    }
   ],
   "source": [
    "for i in range(50,100+1):   # define the range to get prime number between 50 to 100\n",
    "    if i > 1:                       # check the i is greater than 1\n",
    "        for num in range(2,i):\n",
    "            if i% num == 0:       # check the number has any divisible by 1 or itself\n",
    "                break    # not prime  and exit the loop\n",
    "        else:\n",
    "            print(i)  # print only prime number "
   ]
  },
  {
   "cell_type": "markdown",
   "id": "7d6d813b-536d-4e96-a774-3439297c79a0",
   "metadata": {},
   "source": [
    "**4. A student is eligible for a certificate only if:\n",
    "• Attendance is above 75%\n",
    "• Internal score > 35\n",
    "• Has not failed in any subject\n",
    "Write a decision-making program for the same.**"
   ]
  },
  {
   "cell_type": "code",
   "execution_count": 9,
   "id": "7fa1835d-dadf-4930-b8b6-133c86f4c0e2",
   "metadata": {},
   "outputs": [
    {
     "name": "stdin",
     "output_type": "stream",
     "text": [
      "Enter  student attendance percentage:  50\n",
      "Enter internal score:  80\n",
      "Enter number of subjects failed:  0\n"
     ]
    },
    {
     "name": "stdout",
     "output_type": "stream",
     "text": [
      "The student is not eligible for a certificate.\n"
     ]
    }
   ],
   "source": [
    "stud_attendance = float(input(\"Enter  student attendance percentage: \")) # take student attendance\n",
    "internal_score = float(input(\"Enter internal score: \"))  # take internal score of student\n",
    "failed_subjects = int(input(\"Enter number of subjects failed: \")) # take number of failed subject\n",
    "\n",
    "if stud_attendance > 75 and internal_score > 35 and failed_subjects == 0: # check the attendance is greater than 75% and internal score gretaer than 35 and student is no failed in any subject\n",
    "    print(\"The student is eligible for a certificate.\")  # it return student is eligible\n",
    "else:\n",
    "    print(\"The student is not eligible for a certificate.\") # other wise student is not eligible\n",
    "    "
   ]
  },
  {
   "cell_type": "markdown",
   "id": "5740f44e-cc56-44ad-a8d4-70f2cd63216d",
   "metadata": {},
   "source": [
    "**Q 5. Create a mini \"Mood Bot\" that accepts a user's mood input (Happy, Sad, Angry, Excited) and\n",
    "responds with a suitable message.**"
   ]
  },
  {
   "cell_type": "code",
   "execution_count": 11,
   "id": "da87fd0a-b3be-4fee-ad48-488f397d2b08",
   "metadata": {},
   "outputs": [
    {
     "name": "stdin",
     "output_type": "stream",
     "text": [
      "How are you mood today? (Happy, Sad, Angry, Excited):  Happy\n"
     ]
    },
    {
     "name": "stdout",
     "output_type": "stream",
     "text": [
      "Nice your mood is happy today..\n"
     ]
    }
   ],
   "source": [
    "mood_Bot = input(\"How are you mood today? (Happy, Sad, Angry, Excited): \")\n",
    "\n",
    "if mood_Bot== \"Happy\":\n",
    "    print(\"Nice your mood is happy today..\")\n",
    "elif mood_Bot == \"Sad\":\n",
    "    print(\"Oo your mood is sad \")\n",
    "elif mood_Bot== \"Angry\":\n",
    "    print(\"why your mood is angry today?\")\n",
    "elif mood_Bot== \"Excited\":\n",
    "    print(\"Yay! What's got you so excited?\")\n",
    "else:\n",
    "    print(\"Please share your mood\")"
   ]
  },
  {
   "cell_type": "markdown",
   "id": "01703695-a2a4-4eb1-86f0-f8d30c3e0ad1",
   "metadata": {},
   "source": [
    "**Q 6. Given a list of numbers, check if any number is divisible by both 4 and 6 using a loop and\n",
    "logical operators.**"
   ]
  },
  {
   "cell_type": "code",
   "execution_count": 13,
   "id": "b0e25c0c-bfe2-4680-bf17-9d3491ef0321",
   "metadata": {},
   "outputs": [
    {
     "name": "stdout",
     "output_type": "stream",
     "text": [
      "12 is divisible by both 4 and 6.\n",
      "48 is divisible by both 4 and 6.\n"
     ]
    }
   ],
   "source": [
    "numbers = [20,40,12,18,48] # create a list\n",
    "\n",
    "for n in numbers:\n",
    "    if n % 4 == 0 and n % 6 == 0: # check number is divisible by 4 and 6 \n",
    "        print(f\"{n} is divisible by both 4 and 6.\")\n",
    "    \n",
    "        "
   ]
  },
  {
   "cell_type": "markdown",
   "id": "7a296e2a-6abb-477b-b04a-410c28434d94",
   "metadata": {},
   "source": [
    "**7. Build a BMI calculator that takes weight and height, computes BMI, and classifies as:\n",
    "• Underweight\n",
    "• Normal\n",
    "• Overweight\n",
    "• Obese**"
   ]
  },
  {
   "cell_type": "code",
   "execution_count": 15,
   "id": "980dc80c-554e-4744-9f3c-3996f12751b0",
   "metadata": {},
   "outputs": [
    {
     "name": "stdin",
     "output_type": "stream",
     "text": [
      "Enter BMI Weight:  2\n",
      "Enter BMI Height: 3\n"
     ]
    }
   ],
   "source": [
    "Bmi_Weight=float(input(\"Enter BMI Weight: \"))\n",
    "Bmi_Height=float(input(\"Enter BMI Height:\"))\n"
   ]
  },
  {
   "cell_type": "markdown",
   "id": "87eee9d9-918c-4713-b92d-c48e66888d23",
   "metadata": {},
   "source": [
    "**Q 8. Build a mini ATM simulation:\n",
    "• Start with a balance of ₹10,000\n",
    "• Let user withdraw, deposit, or check balance\n",
    "• Use loops and conditionals to simulate multiple operations**\n"
   ]
  },
  {
   "cell_type": "code",
   "execution_count": 17,
   "id": "df2c56ea-c8f6-4b9a-bd63-15c9fa1f1890",
   "metadata": {},
   "outputs": [
    {
     "name": "stdout",
     "output_type": "stream",
     "text": [
      "1.withdraw amount:\n",
      "2.deposite amount:\n",
      "3.check balance:\n",
      "4.Exit\n"
     ]
    },
    {
     "name": "stdin",
     "output_type": "stream",
     "text": [
      "Enter your choice:  1\n",
      " Enter Withdraw amount:  4000\n"
     ]
    },
    {
     "name": "stdout",
     "output_type": "stream",
     "text": [
      "Balance: 6000.0\n",
      "1.withdraw amount:\n",
      "2.deposite amount:\n",
      "3.check balance:\n",
      "4.Exit\n"
     ]
    },
    {
     "name": "stdin",
     "output_type": "stream",
     "text": [
      "Enter your choice:  4\n"
     ]
    },
    {
     "name": "stdout",
     "output_type": "stream",
     "text": [
      "Exiting.\n"
     ]
    }
   ],
   "source": [
    "balance = 10000 # initial balance\n",
    "\n",
    "while True: # Loop execute until user chooses to exit option\n",
    "    print(\"1.withdraw amount:\")\n",
    "    print(\"2.deposite amount:\")\n",
    "    print(\"3.check balance:\")\n",
    "    print(\"4.Exit\")\n",
    "    choice = input(\"Enter your choice: \")\n",
    "\n",
    "    if choice == \"1\":\n",
    "        amount = float(input(\" Enter Withdraw amount: \"))  # if withdraw amount is less than initial amount then it subrat to the initial amount \n",
    "        if amount <= balance:\n",
    "            balance -= amount\n",
    "            print(f\"Balance: {balance}\")\n",
    "        else:                             # other wise it show the insufficient balance\n",
    "            print(\"Insufficient balance.\")\n",
    "    elif choice == \"2\":\n",
    "        amount = float(input(\"Deposit amount: \"))   # it add the deposite amount to the balance\n",
    "        balance += amount\n",
    "        print(f\"Balance: {balance}\")\n",
    "    \n",
    "    elif choice == \"3\":\n",
    "        print(f\"Balance: {balance}\")  # it check the currant balance\n",
    "    \n",
    "    elif choice == \"4\":\n",
    "        print(\"Exiting.\")\n",
    "        break      # Break the loop to exit\n",
    "    else:\n",
    "        print(\"Invalid choice.\")"
   ]
  },
  {
   "cell_type": "markdown",
   "id": "81f11145-1504-437c-ac8d-430e22573ac8",
   "metadata": {},
   "source": [
    "**Q 9. Write a program to check whether a number is Armstrong (e.g., 153 → 1³ + 5³ + 3³ = 153).**\n"
   ]
  },
  {
   "cell_type": "code",
   "execution_count": 30,
   "id": "46bd96d1-8406-47ab-96e0-970fde87cc9f",
   "metadata": {},
   "outputs": [
    {
     "name": "stdin",
     "output_type": "stream",
     "text": [
      "Enter number: 153\n"
     ]
    },
    {
     "name": "stdout",
     "output_type": "stream",
     "text": [
      "Number is Armstrong\n"
     ]
    }
   ],
   "source": [
    "num=int(input(\"Enter number:\"))\n",
    "initial_sum=0\n",
    "temp=num\n",
    "length=len(str(num))\n",
    "while temp>0:\n",
    "    x=temp%10\n",
    "    initial_sum+= x ** length\n",
    "    temp //= 10\n",
    "if num==initial_sum:\n",
    "    print(\"Number is Armstrong\")\n",
    "else:\n",
    "    print(\"Not Armstrong\")"
   ]
  },
  {
   "cell_type": "markdown",
   "id": "2fe53e0b-c43b-468d-b177-07551b74049c",
   "metadata": {},
   "source": [
    "**Q 10. Write a program to check if a number is Kaprekar (e.g., 45² = 2025 → 20 + 25 = 45).**"
   ]
  },
  {
   "cell_type": "code",
   "execution_count": 21,
   "id": "41d99a4d-063c-41b9-8607-43dcd9aa4c0b",
   "metadata": {},
   "outputs": [
    {
     "name": "stdin",
     "output_type": "stream",
     "text": [
      "Enter number: 45\n"
     ]
    }
   ],
   "source": [
    "n=int(input(\"Enter number:\"))\n",
    "square=str(n**2)\n",
    "x=len(str(n))\n",
    "\n",
    "\n",
    "    "
   ]
  },
  {
   "cell_type": "markdown",
   "id": "84d29029-2a54-4cb5-8a82-27f30f830be9",
   "metadata": {},
   "source": [
    "**Q 11. Simulate a rock-paper-scissors game for 2 users using conditionals and loops.**"
   ]
  },
  {
   "cell_type": "code",
   "execution_count": 23,
   "id": "ff196618-510d-47db-8676-991c8e17c439",
   "metadata": {},
   "outputs": [
    {
     "name": "stdin",
     "output_type": "stream",
     "text": [
      "user1 Enter your choice (rock/paper/scissors) : rock\n",
      "user2 Enter your choice (rock/paper/scissors) : paper\n"
     ]
    },
    {
     "name": "stdout",
     "output_type": "stream",
     "text": [
      "User2 wins\n"
     ]
    }
   ],
   "source": [
    "\n",
    "user1 = input(\"user1 Enter your choice (rock/paper/scissors) :\").lower()\n",
    "user2 = input(\"user2 Enter your choice (rock/paper/scissors) :\").lower()\n",
    "if user1 == 'rock':\n",
    "    if user2 == 'paper':\n",
    "        print(\"User2 wins\")\n",
    "    else:\n",
    "        print(\"User1 wins\")\n",
    "elif user1 == 'paper':\n",
    "     if user2 == 'scissors':\n",
    "         print(\"User 2 win\")\n",
    "     else:  \n",
    "         print(\"User 1 win\")\n",
    "elif user1=='scissors':\n",
    "    if user2=='rock':\n",
    "        print(\"user2 win\")\n",
    "    else:\n",
    "        print(\"user1 win\")\n",
    "\n",
    "    "
   ]
  },
  {
   "cell_type": "markdown",
   "id": "e7d54314-b83c-44c4-b1d0-75928a3dc9d9",
   "metadata": {},
   "source": [
    "**Q 12. Input two lists and compare whether their set of elements (regardless of order and duplicates)\n",
    "are the same using operators.**"
   ]
  },
  {
   "cell_type": "code",
   "execution_count": 25,
   "id": "cfce3e74-c247-4245-827c-8205b989e95b",
   "metadata": {},
   "outputs": [
    {
     "name": "stdout",
     "output_type": "stream",
     "text": [
      "The element have no same elemenet\n"
     ]
    }
   ],
   "source": [
    "list1=[10,23,11,6,7]\n",
    "list2=[11,20,5,1,9]\n",
    "if set(list1)==set(list2):\n",
    "    print(\"The list have same element\")\n",
    "else:\n",
    "    print(\"The element have no same elemenet\")"
   ]
  },
  {
   "cell_type": "markdown",
   "id": "e0ebefa8-c236-4e45-bae8-b07795f6a7a7",
   "metadata": {},
   "source": [
    "**Q 13. Create a step-wise interest calculator using a loop:\n",
    "• ₹1000 initial amount\n",
    "• 10% interest per year\n",
    "• Until it doubles → print value per year**\n"
   ]
  },
  {
   "cell_type": "code",
   "execution_count": 28,
   "id": "919955ab-a56b-4c45-b94d-73006f180e31",
   "metadata": {},
   "outputs": [
    {
     "name": "stdout",
     "output_type": "stream",
     "text": [
      "Year 0: ₹1000.00\n",
      "Year 1: ₹1100.00\n",
      "Year 2: ₹1210.00\n",
      "Year 3: ₹1331.00\n",
      "Year 4: ₹1464.10\n",
      "Year 5: ₹1610.51\n",
      "Year 6: ₹1771.56\n",
      "Year 7: ₹1948.72\n"
     ]
    }
   ],
   "source": [
    "initial_amount = 1000 # initial amount\n",
    "interest_rate= 0.10 # get 10% interest\n",
    "current_amount = initial_amount\n",
    "year = 0\n",
    "\n",
    "while True:\n",
    "    if current_amount > 2 * initial_amount:\n",
    "        break\n",
    "    else:\n",
    "        print(f\"Year {year}: ₹{current_amount:.2f}\")\n",
    "        current_amount += current_amount * interest_rate\n",
    "        year += 1\n"
   ]
  },
  {
   "cell_type": "markdown",
   "id": "05b45ca7-5079-4af9-a1c8-a5df2c11da2c",
   "metadata": {},
   "source": [
    "**Q 14. Ask the user to guess a 4-digit PIN. Allow 3 tries.\n",
    "• If correct: print “Unlocked”\n",
    "• If wrong all attempts: print “Access Denied”**"
   ]
  },
  {
   "cell_type": "code",
   "execution_count": 4,
   "id": "34d59d4b-d240-466a-a0cc-5994085ae9db",
   "metadata": {},
   "outputs": [
    {
     "name": "stdin",
     "output_type": "stream",
     "text": [
      "Enter your 4-digit PIN (3 attempts remaining):  1234\n",
      "Incorrect PIN. You have 2 attempts remaining. Enter your 4-digit PIN:  6356\n",
      "Incorrect PIN. You have 1 attempt remaining. Enter your 4-digit PIN:  7531\n"
     ]
    },
    {
     "name": "stdout",
     "output_type": "stream",
     "text": [
      "Unlocked\n"
     ]
    }
   ],
   "source": [
    "correct_pin = 7531\n",
    "\n",
    "attempt1_pin= int(input(\"Enter your 4-digit PIN (3 attempts remaining): \"))\n",
    "if attempt1_pin== correct_pin:\n",
    "    print(\"Unlocked\")\n",
    "else:\n",
    "     attempt2_pin= int(input(\"Incorrect PIN. You have 2 attempts remaining. Enter your 4-digit PIN: \"))\n",
    "     if attempt2_pin == correct_pin:\n",
    "        print(\"Unlocked\")\n",
    "     else:\n",
    "        attempt3_pin = int(input(\"Incorrect PIN. You have 1 attempt remaining. Enter your 4-digit PIN: \"))\n",
    "        if attempt3_pin == correct_pin:\n",
    "            print(\"Unlocked\")\n",
    "        else:\n",
    "            print(\"Access Denied\")"
   ]
  },
  {
   "cell_type": "markdown",
   "id": "6462f377-60c3-44ba-adcd-ef2b598a02e7",
   "metadata": {},
   "source": [
    "**Q 15. Take 10 numbers from user. Show:\n",
    "• Sum of only odd numbers.\n",
    "• Product of even numbers.**"
   ]
  },
  {
   "cell_type": "code",
   "execution_count": 7,
   "id": "cd4c197b-7eb8-48a1-843c-9fd463cbb731",
   "metadata": {},
   "outputs": [
    {
     "name": "stdin",
     "output_type": "stream",
     "text": [
      "Enter number 1:  2\n",
      "Enter number 2:  1\n",
      "Enter number 3:  3\n",
      "Enter number 4:  4\n",
      "Enter number 5:  5\n",
      "Enter number 6:  6\n",
      "Enter number 7:  7\n",
      "Enter number 8:  8\n",
      "Enter number 9:  9\n",
      "Enter number 10:  10\n"
     ]
    },
    {
     "name": "stdout",
     "output_type": "stream",
     "text": [
      "Sum of odd numbers: 25\n",
      "Product of even numbers: 3840\n"
     ]
    }
   ],
   "source": [
    "num1 = int(input(\"Enter number 1: \"))\n",
    "num2 = int(input(\"Enter number 2: \"))\n",
    "num3 = int(input(\"Enter number 3: \"))\n",
    "num4 = int(input(\"Enter number 4: \"))\n",
    "num5 = int(input(\"Enter number 5: \"))\n",
    "num6 = int(input(\"Enter number 6: \"))\n",
    "num7 = int(input(\"Enter number 7: \"))\n",
    "num8 = int(input(\"Enter number 8: \"))\n",
    "num9 = int(input(\"Enter number 9: \"))\n",
    "num10 = int(input(\"Enter number 10: \"))\n",
    "\n",
    "odd_sum = 0  # Initial sum of odd product=0\n",
    "even_product = 1 #  Initial product of even number=1\n",
    "even_count = 0 # if we not entered even number the count will be 0\n",
    "\n",
    "if num1 % 2 == 0:  # Check if number is even\n",
    "    even_product *= num1   # Multiply even number to product\n",
    "    even_count += 1  # Increment even count\n",
    "else:\n",
    "    odd_sum += num1 # other wise it  odd number to sum\n",
    "\n",
    "if num2 % 2 == 0:\n",
    "    even_product *= num2\n",
    "    even_count += 1\n",
    "else:\n",
    "    odd_sum += num2\n",
    "\n",
    "if num3 % 2 == 0:\n",
    "    even_product *= num3\n",
    "    even_count += 1\n",
    "else:\n",
    "    odd_sum += num3\n",
    "\n",
    "if num4 % 2 == 0:\n",
    "    even_product *= num4\n",
    "    even_count += 1\n",
    "else:\n",
    "    odd_sum += num4\n",
    "\n",
    "if num5 % 2 == 0:\n",
    "    even_product *= num5\n",
    "    even_count += 1\n",
    "else:\n",
    "    odd_sum += num5\n",
    "\n",
    "if num6 % 2 == 0:\n",
    "    even_product *= num6\n",
    "    even_count += 1\n",
    "else:\n",
    "    odd_sum += num6\n",
    "\n",
    "if num7 % 2 == 0:\n",
    "    even_product *= num7\n",
    "    even_count += 1\n",
    "else:\n",
    "    odd_sum += num7\n",
    "\n",
    "if num8 % 2 == 0:\n",
    "    even_product *= num8\n",
    "    even_count += 1\n",
    "else:\n",
    "    odd_sum += num8\n",
    "\n",
    "if num9 % 2 == 0:\n",
    "    even_product *= num9\n",
    "    even_count += 1\n",
    "else:\n",
    "    odd_sum += num9\n",
    "\n",
    "if num10 % 2 == 0:\n",
    "    even_product *= num10\n",
    "    even_count += 1\n",
    "else:\n",
    "    odd_sum += num10\n",
    "\n",
    "print(f\"Sum of odd numbers: {odd_sum}\")\n",
    "if even_count > 0:\n",
    "    print(f\"Product of even numbers: {even_product}\")\n",
    "else:\n",
    "    print(\"No even numbers entered.\")"
   ]
  },
  {
   "cell_type": "code",
   "execution_count": null,
   "id": "c2e6feca-ce57-47b7-9a12-81251b1cd788",
   "metadata": {},
   "outputs": [],
   "source": []
  }
 ],
 "metadata": {
  "kernelspec": {
   "display_name": "Python [conda env:base] *",
   "language": "python",
   "name": "conda-base-py"
  },
  "language_info": {
   "codemirror_mode": {
    "name": "ipython",
    "version": 3
   },
   "file_extension": ".py",
   "mimetype": "text/x-python",
   "name": "python",
   "nbconvert_exporter": "python",
   "pygments_lexer": "ipython3",
   "version": "3.12.7"
  }
 },
 "nbformat": 4,
 "nbformat_minor": 5
}
